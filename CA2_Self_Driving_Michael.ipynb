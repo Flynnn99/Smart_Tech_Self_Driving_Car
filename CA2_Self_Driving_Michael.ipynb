{
  "nbformat": 4,
  "nbformat_minor": 0,
  "metadata": {
    "colab": {
      "provenance": [],
      "gpuType": "T4"
    },
    "kernelspec": {
      "name": "python3",
      "display_name": "Python 3"
    },
    "language_info": {
      "name": "python"
    },
    "accelerator": "GPU"
  },
  "cells": [
    {
      "cell_type": "code",
      "execution_count": null,
      "metadata": {
        "id": "RbAvtqk3kih1"
      },
      "outputs": [],
      "source": [
        "!git clone https://github.com/Flynnn99/images_for_ca2.git\n"
      ]
    },
    {
      "cell_type": "code",
      "source": [
        "!ls"
      ],
      "metadata": {
        "id": "w4V_mxXNlnmU"
      },
      "execution_count": null,
      "outputs": []
    },
    {
      "cell_type": "code",
      "source": [
        "import numpy as np\n",
        "import matplotlib.pyplot as plt\n",
        "import keras\n",
        "from keras.models import Sequential\n",
        "from keras.optimizers import Adam\n",
        "from keras.layers import Convolution2D, MaxPool2D, Dropout, Flatten, Dense\n",
        "import cv2\n",
        "import pandas as pd\n",
        "import random\n",
        "import os\n",
        "import ntpath\n",
        "from sklearn.utils import shuffle\n",
        "from sklearn.model_selection import train_test_split\n",
        "import matplotlib.image as mpimg\n",
        "from imgaug import augmenters as iaa"
      ],
      "metadata": {
        "id": "A5LTe7OilCGR"
      },
      "execution_count": null,
      "outputs": []
    },
    {
      "cell_type": "code",
      "source": [
        "def path_leaf(path):\n",
        "  head,tail = ntpath.split(path)\n",
        "  return tail"
      ],
      "metadata": {
        "id": "sRZUwdexlK8V"
      },
      "execution_count": null,
      "outputs": []
    },
    {
      "cell_type": "code",
      "source": [
        "def load_img_steering(datadir, df):\n",
        "  image_path = []\n",
        "  steering = []\n",
        "  for i in range(len(data)):\n",
        "    indexed_data = data.iloc[i]\n",
        "    centre,left,right = indexed_data[0], indexed_data[1],indexed_data[2]\n",
        "    image_path.append(os.path.join(datadir,centre.strip()))\n",
        "    steering.append(float(indexed_data[3]))\n",
        "    image_path.append(os.path.join(datadir, left.strip()))\n",
        "    steering.append(float(indexed_data[3]) + 0.15)\n",
        "    image_path.append(os.path.join(datadir, right.strip()))\n",
        "    steering.append(float(indexed_data[3]) - 0.15)\n",
        "  image_paths = np.asarray(image_path)\n",
        "  steerings = np.asarray(steering)\n",
        "  return image_paths, steerings"
      ],
      "metadata": {
        "id": "BcvoPLMPlM3Q"
      },
      "execution_count": null,
      "outputs": []
    },
    {
      "cell_type": "code",
      "source": [
        "def preprocess_img(img):\n",
        "  img = mpimg.imread(img)\n",
        "  img = img[60:135, :, :]\n",
        "  img = cv2.cvtColor(img,cv2.COLOR_RGB2YUV)\n",
        "  img = cv2.GaussianBlur(img,(3,3),0)\n",
        "  img = cv2.resize(img, (200,66))\n",
        "  img = img/255\n",
        "  return img"
      ],
      "metadata": {
        "id": "IrgC16j7lPjA"
      },
      "execution_count": null,
      "outputs": []
    },
    {
      "cell_type": "code",
      "source": [
        "def preprocessed_img_no_imread(img):\n",
        "  img = img[60:135, :, :]\n",
        "  img = cv2.cvtColor(img,cv2.COLOR_RGB2YUV)\n",
        "  img = cv2.GaussianBlur(img,(3,3),0)\n",
        "  img = cv2.resize(img, (200,66))\n",
        "  img = img/255\n",
        "  return img"
      ],
      "metadata": {
        "id": "L55XpapClREk"
      },
      "execution_count": null,
      "outputs": []
    },
    {
      "cell_type": "code",
      "source": [
        "#https://arxiv.org/pdf/1604.07316v1.pdf\n",
        "def nvidia_model():\n",
        "  model = Sequential()#66x200\n",
        "  model.add(Convolution2D(24, kernel_size=(5,5), strides=(2,2), input_shape=(66,200,3) ,activation='elu')) # 31 x 98\n",
        "  model.add(Convolution2D(36, kernel_size=(5,5), strides=(2,2), activation='elu')) # 14 x 47\n",
        "  model.add(Convolution2D(48, kernel_size=(5,5), strides=(2,2), activation='elu')) # 5 x 22\n",
        "  model.add(Convolution2D(64, kernel_size=(3,3), activation='elu')) #3x20\n",
        "  model.add(Convolution2D(64, kernel_size=(3,3), activation='elu'))# 1 x 18\n",
        "  # model.add(Dropout(.5))\n",
        "  model.add(Flatten())\n",
        "  model.add(Dense(100,activation= 'elu'))\n",
        "  # model.add(Dropout(.5))\n",
        "  model.add(Dense(50, activation='elu'))\n",
        "  # model.add(Dropout(.5))\n",
        "  model.add(Dense(10,activation= 'elu'))\n",
        "  model.add(Dense(1))\n",
        "  optimizer = Adam(learning_rate=0.0001)\n",
        "  model.compile(loss='mse', optimizer=optimizer)\n",
        "  return model"
      ],
      "metadata": {
        "id": "BZMyCu6jlUER"
      },
      "execution_count": null,
      "outputs": []
    },
    {
      "cell_type": "code",
      "source": [
        "def zoom(image_to_zoom):\n",
        "  zoom_func = iaa.Affine(scale=(1,1.3))\n",
        "  z_image = zoom_func.augment_image(image_to_zoom)\n",
        "  return z_image"
      ],
      "metadata": {
        "id": "zOyJjjA3lVMi"
      },
      "execution_count": null,
      "outputs": []
    },
    {
      "cell_type": "code",
      "source": [
        "def pan(image_to_pan):\n",
        "  pan_func = iaa.Affine(translate_percent={\"x\": (-0.1,0.1), \"y\": (-0.1,0.1)})\n",
        "  pan_image = pan_func.augment_image(image_to_pan)\n",
        "  return pan_image"
      ],
      "metadata": {
        "id": "miaHw5F_lWc_"
      },
      "execution_count": null,
      "outputs": []
    },
    {
      "cell_type": "code",
      "source": [
        "def img_random_brightness(image_to_brighten):\n",
        "  bright_func = iaa.Multiply((0.2,1.2))\n",
        "  bright_image = bright_func.augment_image(image_to_brighten).astype(\"uint8\")\n",
        "  return bright_image"
      ],
      "metadata": {
        "id": "KNfTXA_tlXbf"
      },
      "execution_count": null,
      "outputs": []
    },
    {
      "cell_type": "code",
      "source": [
        "def img_random_flip(image_to_flip,steering_angle):\n",
        "  flipped_image = cv2.flip(image_to_flip,1)\n",
        "  steering_angle = -steering_angle\n",
        "  return flipped_image, steering_angle"
      ],
      "metadata": {
        "id": "vHMKtXe7lZU2"
      },
      "execution_count": null,
      "outputs": []
    },
    {
      "cell_type": "code",
      "source": [
        "def random_augment(image_to_augment,steering_angle):\n",
        "  augment_image = mpimg.imread(image_to_augment)\n",
        "  if np.random.rand() < 0.5:\n",
        "    augment_image = zoom(augment_image)\n",
        "  if np.random.rand() < 0.5:\n",
        "    augment_image = pan(augment_image)\n",
        "  if np.random.rand() < 0.5:\n",
        "    augment_image = img_random_brightness(augment_image)\n",
        "  if np.random.rand() < 0.5:\n",
        "    augment_image, steering_angle = img_random_flip(augment_image,steering_angle)\n",
        "  return augment_image, steering_angle"
      ],
      "metadata": {
        "id": "1A7xCsHUlbO5"
      },
      "execution_count": null,
      "outputs": []
    },
    {
      "cell_type": "code",
      "source": [
        "def batch_generator(image_paths, steering_ang,batch_size,is_training):\n",
        "  while True:\n",
        "    batch_img = []\n",
        "    batch_steering = []\n",
        "    for i in range(batch_size):\n",
        "      random_index = random.randint(0,len(image_paths)-1)\n",
        "      if is_training:\n",
        "        im,steering = random_augment(image_paths[random_index],steering_ang[random_index])\n",
        "      else:\n",
        "        im = mpimg.imread(image_paths[random_index])\n",
        "        steering = steering_ang[random_index]\n",
        "\n",
        "      im = preprocessed_img_no_imread(im)\n",
        "      batch_img.append(im)\n",
        "      batch_steering.append(steering)\n",
        "    yield np.asarray(batch_img), np.asarray(batch_steering)"
      ],
      "metadata": {
        "id": "CQGDbBVPlb1y"
      },
      "execution_count": null,
      "outputs": []
    },
    {
      "cell_type": "code",
      "source": [
        "datadir = \"images_for_ca2/Images_For_Track_2\" # Change to TrackTwo\n",
        "columns = [\"center\", \"left\",\"right\",\"steering\",\"throttle\",\"reverse\",\"speed\"]\n",
        "data = pd.read_csv(os.path.join(datadir,\"driving_log.csv\"),names=columns)\n",
        "pd.set_option('display.max_columns', 7)\n",
        "print(data.head)"
      ],
      "metadata": {
        "id": "gLtoHuzMld8a"
      },
      "execution_count": null,
      "outputs": []
    },
    {
      "cell_type": "code",
      "source": [
        "data['center'] = data['center'].apply(path_leaf)\n",
        "data['left'] = data['left'].apply(path_leaf)\n",
        "data['right'] = data['right'].apply(path_leaf)"
      ],
      "metadata": {
        "id": "RoPkpwfvlvvr"
      },
      "execution_count": null,
      "outputs": []
    },
    {
      "cell_type": "code",
      "source": [
        "num_bins = 25\n",
        "samples_per_bin = 400\n",
        "hist,bins = np.histogram(data['steering'],num_bins)\n",
        "centre = (bins[:-1] + bins[1:]) * 0.5\n",
        "plt.bar(centre, hist, width=0.05)\n",
        "plt.plot((np.min(data['steering']), np.max(data['steering'])), (samples_per_bin, samples_per_bin))\n",
        "plt.show()"
      ],
      "metadata": {
        "id": "ptuo5Bgklwzo"
      },
      "execution_count": null,
      "outputs": []
    },
    {
      "cell_type": "code",
      "source": [
        "remove_list = []\n",
        "print('total data:', len(data))\n",
        "for j in range(num_bins):\n",
        "  list_ = []\n",
        "  for i in range(len(data['steering'])):\n",
        "    if data['steering'][i] >= bins[j] and data['steering'][i] <= bins[j+1]:\n",
        "      list_.append(i)\n",
        "  list_ = shuffle(list_)\n",
        "  list_ = list_[samples_per_bin:]\n",
        "  remove_list.extend(list_)\n",
        "print('removed', len(remove_list))\n",
        "data.drop(data.index[remove_list], inplace=True)\n",
        "print('remaining:', len(data))"
      ],
      "metadata": {
        "id": "X4Dz-l5nlx9W"
      },
      "execution_count": null,
      "outputs": []
    },
    {
      "cell_type": "code",
      "source": [
        "hist,bins = np.histogram(data['steering'],num_bins)\n",
        "plt.bar(centre, hist, width=0.05)\n",
        "plt.plot((np.min(data['steering']), np.max(data['steering'])), (samples_per_bin, samples_per_bin))\n",
        "plt.show()"
      ],
      "metadata": {
        "id": "N-4RkptRlzjM"
      },
      "execution_count": null,
      "outputs": []
    },
    {
      "cell_type": "code",
      "source": [
        "image_paths, steerings = load_img_steering(datadir + '/IMG', data)\n",
        "X_train, X_valid, y_train, y_valid = train_test_split(image_paths, steerings, test_size=0.15, random_state=6)\n",
        "print('Training Samples: {}\\nValid Samples: {}'.format(len(X_train), len(X_valid)))"
      ],
      "metadata": {
        "id": "5YGpFdvPl1OH"
      },
      "execution_count": null,
      "outputs": []
    },
    {
      "cell_type": "code",
      "source": [
        "fig, axes = plt.subplots(1,2, figsize=(12,4))\n",
        "axes[0].hist(y_train, bins=num_bins, width=0.05, color='blue')\n",
        "axes[0].set_title('Training Set')\n",
        "axes[1].hist(y_valid, bins=num_bins, width=0.05, color='red')\n",
        "axes[1].set_title('Validation Set')\n",
        "plt.show()"
      ],
      "metadata": {
        "id": "ACJMhzp-l4fg"
      },
      "execution_count": null,
      "outputs": []
    },
    {
      "cell_type": "code",
      "source": [
        "image = image_paths[100]\n",
        "original_img = mpimg.imread(image)\n",
        "preprocessed_img = preprocess_img(image)\n",
        "fig, axes = plt.subplots(1,2, figsize=(15,10))\n",
        "fig.tight_layout()\n",
        "axes[0].imshow(original_img)\n",
        "axes[0].set_title('Original Image')\n",
        "axes[1].imshow(preprocessed_img)\n",
        "axes[1].set_title('Preprocessed Image')\n",
        "plt.show()"
      ],
      "metadata": {
        "id": "G_G2hmawl5_k"
      },
      "execution_count": null,
      "outputs": []
    },
    {
      "cell_type": "code",
      "source": [
        "image = image_paths[random.randint(0,1000)]\n",
        "original_img = mpimg.imread(image)\n",
        "zoomed_image = zoom(original_img)\n",
        "fig, axes = plt.subplots(1,2, figsize=(15,10))\n",
        "fig.tight_layout()\n",
        "axes[0].imshow(original_img)\n",
        "axes[0].set_title('Original Image')\n",
        "axes[1].imshow(zoomed_image)\n",
        "axes[1].set_title('Zoomed Image')\n",
        "plt.show()"
      ],
      "metadata": {
        "id": "4n45vDN0l6Z-"
      },
      "execution_count": null,
      "outputs": []
    },
    {
      "cell_type": "code",
      "source": [
        "image = image_paths[random.randint(0,1000)]\n",
        "original_img = mpimg.imread(image)\n",
        "panned_image = pan(original_img)\n",
        "fig, axes = plt.subplots(1,2, figsize=(15,10))\n",
        "fig.tight_layout()\n",
        "axes[0].imshow(original_img)\n",
        "axes[0].set_title('Original Image')\n",
        "axes[1].imshow(panned_image)\n",
        "axes[1].set_title('Panned Image')\n",
        "plt.show()"
      ],
      "metadata": {
        "id": "jGjyrHfTl8Mt"
      },
      "execution_count": null,
      "outputs": []
    },
    {
      "cell_type": "code",
      "source": [
        "image = image_paths[random.randint(0,1000)]\n",
        "original_img = mpimg.imread(image)\n",
        "brightened_image = img_random_brightness(original_img)\n",
        "fig, axes = plt.subplots(1,2, figsize=(15,10))\n",
        "fig.tight_layout()\n",
        "axes[0].imshow(original_img)\n",
        "axes[0].set_title('Original Image')\n",
        "axes[1].imshow(brightened_image)\n",
        "axes[1].set_title('Brightened Image')\n",
        "plt.show()"
      ],
      "metadata": {
        "id": "Z3z_AIA-l9oq"
      },
      "execution_count": null,
      "outputs": []
    },
    {
      "cell_type": "code",
      "source": [
        "random_index = random.randint(0,1000)\n",
        "image = image_paths[random_index]\n",
        "steering = steerings[random_index]\n",
        "original_img = mpimg.imread(image)\n",
        "flipped_image, flipped_steering = img_random_flip(original_img,steering)\n",
        "fig, axes = plt.subplots(1,2, figsize=(15,10))\n",
        "fig.tight_layout()\n",
        "axes[0].imshow(original_img)\n",
        "axes[0].set_title('Original Image - ' + 'Steering Angle:' + str(steering))\n",
        "axes[1].imshow(flipped_image)\n",
        "axes[1].set_title('Flipped Image - ' + 'Steering Angle:' + str(flipped_steering))\n",
        "plt.show()"
      ],
      "metadata": {
        "id": "26esg8oll_CQ"
      },
      "execution_count": null,
      "outputs": []
    },
    {
      "cell_type": "code",
      "source": [
        "ncols = 2\n",
        "nrows = 10\n",
        "fig, axes = plt.subplots(nrows, ncols, figsize=(15,50))\n",
        "fig.tight_layout()\n",
        "for i in range(10):\n",
        "  randnum = random.randint(0,len(image_paths)-1)\n",
        "  random_image = image_paths[randnum]\n",
        "  random_steering = steerings[randnum]\n",
        "  original_img = mpimg.imread(random_image)\n",
        "  augmented_image, steering = random_augment(random_image,random_steering)\n",
        "  axes[i][0].imshow(original_img)\n",
        "  axes[i][0].set_title('Original Image')\n",
        "  axes[i][1].imshow(augmented_image)\n",
        "  axes[i][1].set_title('Augmented Image')\n",
        "plt.show()"
      ],
      "metadata": {
        "id": "2OJgcUpomBgZ"
      },
      "execution_count": null,
      "outputs": []
    },
    {
      "cell_type": "code",
      "source": [
        "model = nvidia_model()\n",
        "print(model.summary())"
      ],
      "metadata": {
        "id": "mPTtVKQ9mDGQ"
      },
      "execution_count": null,
      "outputs": []
    },
    {
      "cell_type": "code",
      "source": [
        "history = model.fit(batch_generator(X_train, y_train, 600, 1),steps_per_epoch=200,epochs=30,validation_data=batch_generator(X_valid, y_valid, 200, 0),validation_steps=200,verbose=1,shuffle=1)"
      ],
      "metadata": {
        "id": "isQ2v-0tmEYh",
        "colab": {
          "base_uri": "https://localhost:8080/"
        },
        "outputId": "00aff5b3-9f18-4993-ae34-27d7a943aea8"
      },
      "execution_count": null,
      "outputs": [
        {
          "output_type": "stream",
          "name": "stdout",
          "text": [
            "Epoch 1/50\n",
            "200/200 [==============================] - 403s 2s/step - loss: 0.2337 - val_loss: 0.1733\n",
            "Epoch 2/50\n",
            "200/200 [==============================] - 388s 2s/step - loss: 0.1858 - val_loss: 0.1473\n",
            "Epoch 3/50\n",
            "200/200 [==============================] - 387s 2s/step - loss: 0.1656 - val_loss: 0.1460\n",
            "Epoch 4/50\n",
            "142/200 [====================>.........] - ETA: 1:25 - loss: 0.1532"
          ]
        }
      ]
    },
    {
      "cell_type": "code",
      "source": [
        "plt.plot(history.history['loss'])\n",
        "plt.plot(history.history['val_loss'])\n",
        "plt.legend(['Training','Validation'])\n",
        "plt.title('Loss')\n",
        "plt.xlabel('Epoch')\n",
        "plt.show()"
      ],
      "metadata": {
        "id": "cwl8RVIAmHkx"
      },
      "execution_count": null,
      "outputs": []
    },
    {
      "cell_type": "code",
      "source": [
        "model.save('trackOne_model.h5')"
      ],
      "metadata": {
        "id": "XCMUsUSTmIWT"
      },
      "execution_count": null,
      "outputs": []
    },
    {
      "cell_type": "code",
      "source": [
        "!ls\n",
        "from google.colab import files\n",
        "files.download('trackOne_model.h5')"
      ],
      "metadata": {
        "id": "XUrufpZTmL_W"
      },
      "execution_count": null,
      "outputs": []
    }
  ]
}