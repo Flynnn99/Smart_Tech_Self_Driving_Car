{
  "cells": [
    {
      "cell_type": "code",
      "execution_count": 15,
      "metadata": {
        "id": "RbAvtqk3kih1"
      },
      "outputs": [],
      "source": [
        "!git clone https://github.com/Flynnn99/images_for_ca2.git\n"
      ]
    },
    {
      "cell_type": "code",
      "execution_count": 1,
      "metadata": {
        "id": "w4V_mxXNlnmU"
      },
      "outputs": [
        {
          "name": "stderr",
          "output_type": "stream",
          "text": [
            "'ls' is not recognized as an internal or external command,\n",
            "operable program or batch file.\n"
          ]
        }
      ],
      "source": [
        "!ls"
      ]
    },
    {
      "cell_type": "code",
      "execution_count": 2,
      "metadata": {
        "id": "A5LTe7OilCGR"
      },
      "outputs": [],
      "source": [
        "import numpy as np\n",
        "import matplotlib.pyplot as plt\n",
        "import keras\n",
        "from keras.models import Sequential\n",
        "from keras.optimizers import Adam\n",
        "from keras.layers import Convolution2D, MaxPool2D, Dropout, Flatten, Dense\n",
        "import cv2\n",
        "import pandas as pd\n",
        "import random\n",
        "import os\n",
        "import ntpath\n",
        "from sklearn.utils import shuffle\n",
        "from sklearn.model_selection import train_test_split\n",
        "import matplotlib.image as mpimg\n",
        "from imgaug import augmenters as iaa"
      ]
    },
    {
      "cell_type": "code",
      "execution_count": 3,
      "metadata": {
        "id": "sRZUwdexlK8V"
      },
      "outputs": [],
      "source": [
        "def path_leaf(path):\n",
        "  head,tail = ntpath.split(path)\n",
        "  return tail"
      ]
    },
    {
      "cell_type": "code",
      "execution_count": 4,
      "metadata": {
        "id": "BcvoPLMPlM3Q"
      },
      "outputs": [],
      "source": [
        "def load_img_steering(datadir, df):\n",
        "  image_path = []\n",
        "  steering = []\n",
        "  for i in range(len(data)):\n",
        "    indexed_data = data.iloc[i]\n",
        "    centre,left,right = indexed_data[0], indexed_data[1],indexed_data[2]\n",
        "    image_path.append(os.path.join(datadir,centre.strip()))\n",
        "    steering.append(float(indexed_data[3]))\n",
        "    image_path.append(os.path.join(datadir, left.strip()))\n",
        "    steering.append(float(indexed_data[3]) + 0.20)\n",
        "    image_path.append(os.path.join(datadir, right.strip()))\n",
        "    steering.append(float(indexed_data[3]) - 0.20)\n",
        "  image_paths = np.asarray(image_path)\n",
        "  steerings = np.asarray(steering)\n",
        "  return image_paths, steerings"
      ]
    },
    {
      "cell_type": "code",
      "execution_count": 5,
      "metadata": {
        "id": "IrgC16j7lPjA"
      },
      "outputs": [],
      "source": [
        "def preprocess_img(img):\n",
        "  img = mpimg.imread(img)\n",
        "  img = img[60:135, :, :]\n",
        "  img = cv2.cvtColor(img,cv2.COLOR_RGB2YUV)\n",
        "  img = cv2.GaussianBlur(img,(3,3),0)\n",
        "  img = cv2.resize(img, (200,66))\n",
        "  img = img/255\n",
        "  return img"
      ]
    },
    {
      "cell_type": "code",
      "execution_count": 6,
      "metadata": {
        "id": "L55XpapClREk"
      },
      "outputs": [],
      "source": [
        "def preprocessed_img_no_imread(img):\n",
        "  img = img[60:135, :, :]\n",
        "  img = cv2.cvtColor(img,cv2.COLOR_RGB2YUV)\n",
        "  img = cv2.GaussianBlur(img,(3,3),0)\n",
        "  img = cv2.resize(img, (200,66))\n",
        "  img = img/255\n",
        "  return img"
      ]
    },
    {
      "cell_type": "code",
      "execution_count": 7,
      "metadata": {
        "id": "BZMyCu6jlUER"
      },
      "outputs": [],
      "source": [
        "#https://arxiv.org/pdf/1604.07316v1.pdf\n",
        "def nvidia_model():\n",
        "  model = Sequential()#66x200\n",
        "  model.add(Convolution2D(24, kernel_size=(5,5), strides=(2,2), input_shape=(66,200,3) ,activation='elu')) # 31 x 98\n",
        "  model.add(Convolution2D(36, kernel_size=(5,5), strides=(2,2), activation='elu')) # 14 x 47\n",
        "  model.add(Convolution2D(48, kernel_size=(5,5), strides=(2,2), activation='elu')) # 5 x 22\n",
        "  model.add(Convolution2D(64, kernel_size=(3,3), activation='elu')) #3x20\n",
        "  model.add(Convolution2D(64, kernel_size=(3,3), activation='elu'))# 1 x 18\n",
        "  # model.add(Dropout(.5))\n",
        "  model.add(Flatten())\n",
        "  model.add(Dense(100,activation= 'elu'))\n",
        "  # model.add(Dropout(.5))\n",
        "  model.add(Dense(50, activation='elu'))\n",
        "  # model.add(Dropout(.5))\n",
        "  model.add(Dense(10,activation= 'elu'))\n",
        "  model.add(Dense(1))\n",
        "  optimizer = Adam(learning_rate=0.0001)\n",
        "  model.compile(loss='mse', optimizer=optimizer)\n",
        "  return model"
      ]
    },
    {
      "cell_type": "code",
      "execution_count": 8,
      "metadata": {
        "id": "zOyJjjA3lVMi"
      },
      "outputs": [],
      "source": [
        "def zoom(image_to_zoom):\n",
        "  zoom_func = iaa.Affine(scale=(1,1.3))\n",
        "  z_image = zoom_func.augment_image(image_to_zoom)\n",
        "  return z_image"
      ]
    },
    {
      "cell_type": "code",
      "execution_count": 9,
      "metadata": {
        "id": "miaHw5F_lWc_"
      },
      "outputs": [],
      "source": [
        "def pan(image_to_pan):\n",
        "  pan_func = iaa.Affine(translate_percent={\"x\": (-0.1,0.1), \"y\": (-0.1,0.1)})\n",
        "  pan_image = pan_func.augment_image(image_to_pan)\n",
        "  return pan_image"
      ]
    },
    {
      "cell_type": "code",
      "execution_count": 10,
      "metadata": {
        "id": "KNfTXA_tlXbf"
      },
      "outputs": [],
      "source": [
        "def img_random_brightness(image_to_brighten):\n",
        "  bright_func = iaa.Multiply((0.2,1.2))\n",
        "  bright_image = bright_func.augment_image(image_to_brighten).astype(\"uint8\")\n",
        "  return bright_image"
      ]
    },
    {
      "cell_type": "code",
      "execution_count": 11,
      "metadata": {
        "id": "vHMKtXe7lZU2"
      },
      "outputs": [],
      "source": [
        "def img_random_flip(image_to_flip,steering_angle):\n",
        "  flipped_image = cv2.flip(image_to_flip,1)\n",
        "  steering_angle = -steering_angle\n",
        "  return flipped_image, steering_angle"
      ]
    },
    {
      "cell_type": "code",
      "execution_count": 12,
      "metadata": {
        "id": "1A7xCsHUlbO5"
      },
      "outputs": [],
      "source": [
        "def random_augment(image_to_augment,steering_angle):\n",
        "  augment_image = mpimg.imread(image_to_augment)\n",
        "  if np.random.rand() < 0.5:\n",
        "    augment_image = zoom(augment_image)\n",
        "  if np.random.rand() < 0.5:\n",
        "    augment_image = pan(augment_image)\n",
        "  if np.random.rand() < 0.5:\n",
        "    augment_image = img_random_brightness(augment_image)\n",
        "  if np.random.rand() < 0.5:\n",
        "    augment_image, steering_angle = img_random_flip(augment_image,steering_angle)\n",
        "  return augment_image, steering_angle"
      ]
    },
    {
      "cell_type": "code",
      "execution_count": 13,
      "metadata": {
        "id": "CQGDbBVPlb1y"
      },
      "outputs": [],
      "source": [
        "def batch_generator(image_paths, steering_ang,batch_size,is_training):\n",
        "  while True:\n",
        "    batch_img = []\n",
        "    batch_steering = []\n",
        "    for i in range(batch_size):\n",
        "      random_index = random.randint(0,len(image_paths)-1)\n",
        "      if is_training:\n",
        "        im,steering = random_augment(image_paths[random_index],steering_ang[random_index])\n",
        "      else:\n",
        "        im = mpimg.imread(image_paths[random_index])\n",
        "        steering = steering_ang[random_index]\n",
        "\n",
        "      im = preprocessed_img_no_imread(im)\n",
        "      batch_img.append(im)\n",
        "      batch_steering.append(steering)\n",
        "    yield np.asarray(batch_img), np.asarray(batch_steering)"
      ]
    },
    {
      "cell_type": "code",
      "execution_count": 14,
      "metadata": {
        "id": "gLtoHuzMld8a"
      },
      "outputs": [
        {
          "ename": "FileNotFoundError",
          "evalue": "[Errno 2] No such file or directory: 'images_for_ca2/Images_For_Track_2\\\\driving_log.csv'",
          "output_type": "error",
          "traceback": [
            "\u001b[1;31m---------------------------------------------------------------------------\u001b[0m",
            "\u001b[1;31mFileNotFoundError\u001b[0m                         Traceback (most recent call last)",
            "Cell \u001b[1;32mIn[14], line 3\u001b[0m\n\u001b[0;32m      1\u001b[0m datadir \u001b[38;5;241m=\u001b[39m \u001b[38;5;124m\"\u001b[39m\u001b[38;5;124mimages_for_ca2/Images_For_Track_2\u001b[39m\u001b[38;5;124m\"\u001b[39m \u001b[38;5;66;03m# Change to TrackTwo\u001b[39;00m\n\u001b[0;32m      2\u001b[0m columns \u001b[38;5;241m=\u001b[39m [\u001b[38;5;124m\"\u001b[39m\u001b[38;5;124mcenter\u001b[39m\u001b[38;5;124m\"\u001b[39m, \u001b[38;5;124m\"\u001b[39m\u001b[38;5;124mleft\u001b[39m\u001b[38;5;124m\"\u001b[39m,\u001b[38;5;124m\"\u001b[39m\u001b[38;5;124mright\u001b[39m\u001b[38;5;124m\"\u001b[39m,\u001b[38;5;124m\"\u001b[39m\u001b[38;5;124msteering\u001b[39m\u001b[38;5;124m\"\u001b[39m,\u001b[38;5;124m\"\u001b[39m\u001b[38;5;124mthrottle\u001b[39m\u001b[38;5;124m\"\u001b[39m,\u001b[38;5;124m\"\u001b[39m\u001b[38;5;124mreverse\u001b[39m\u001b[38;5;124m\"\u001b[39m,\u001b[38;5;124m\"\u001b[39m\u001b[38;5;124mspeed\u001b[39m\u001b[38;5;124m\"\u001b[39m]\n\u001b[1;32m----> 3\u001b[0m data \u001b[38;5;241m=\u001b[39m \u001b[43mpd\u001b[49m\u001b[38;5;241;43m.\u001b[39;49m\u001b[43mread_csv\u001b[49m\u001b[43m(\u001b[49m\u001b[43mos\u001b[49m\u001b[38;5;241;43m.\u001b[39;49m\u001b[43mpath\u001b[49m\u001b[38;5;241;43m.\u001b[39;49m\u001b[43mjoin\u001b[49m\u001b[43m(\u001b[49m\u001b[43mdatadir\u001b[49m\u001b[43m,\u001b[49m\u001b[38;5;124;43m\"\u001b[39;49m\u001b[38;5;124;43mdriving_log.csv\u001b[39;49m\u001b[38;5;124;43m\"\u001b[39;49m\u001b[43m)\u001b[49m\u001b[43m,\u001b[49m\u001b[43mnames\u001b[49m\u001b[38;5;241;43m=\u001b[39;49m\u001b[43mcolumns\u001b[49m\u001b[43m)\u001b[49m\n\u001b[0;32m      4\u001b[0m pd\u001b[38;5;241m.\u001b[39mset_option(\u001b[38;5;124m'\u001b[39m\u001b[38;5;124mdisplay.max_columns\u001b[39m\u001b[38;5;124m'\u001b[39m, \u001b[38;5;241m7\u001b[39m)\n\u001b[0;32m      5\u001b[0m \u001b[38;5;28mprint\u001b[39m(data\u001b[38;5;241m.\u001b[39mhead)\n",
            "File \u001b[1;32mc:\\Users\\micfl\\AppData\\Local\\Programs\\Python\\Python311\\Lib\\site-packages\\pandas\\io\\parsers\\readers.py:948\u001b[0m, in \u001b[0;36mread_csv\u001b[1;34m(filepath_or_buffer, sep, delimiter, header, names, index_col, usecols, dtype, engine, converters, true_values, false_values, skipinitialspace, skiprows, skipfooter, nrows, na_values, keep_default_na, na_filter, verbose, skip_blank_lines, parse_dates, infer_datetime_format, keep_date_col, date_parser, date_format, dayfirst, cache_dates, iterator, chunksize, compression, thousands, decimal, lineterminator, quotechar, quoting, doublequote, escapechar, comment, encoding, encoding_errors, dialect, on_bad_lines, delim_whitespace, low_memory, memory_map, float_precision, storage_options, dtype_backend)\u001b[0m\n\u001b[0;32m    935\u001b[0m kwds_defaults \u001b[38;5;241m=\u001b[39m _refine_defaults_read(\n\u001b[0;32m    936\u001b[0m     dialect,\n\u001b[0;32m    937\u001b[0m     delimiter,\n\u001b[1;32m   (...)\u001b[0m\n\u001b[0;32m    944\u001b[0m     dtype_backend\u001b[38;5;241m=\u001b[39mdtype_backend,\n\u001b[0;32m    945\u001b[0m )\n\u001b[0;32m    946\u001b[0m kwds\u001b[38;5;241m.\u001b[39mupdate(kwds_defaults)\n\u001b[1;32m--> 948\u001b[0m \u001b[38;5;28;01mreturn\u001b[39;00m \u001b[43m_read\u001b[49m\u001b[43m(\u001b[49m\u001b[43mfilepath_or_buffer\u001b[49m\u001b[43m,\u001b[49m\u001b[43m \u001b[49m\u001b[43mkwds\u001b[49m\u001b[43m)\u001b[49m\n",
            "File \u001b[1;32mc:\\Users\\micfl\\AppData\\Local\\Programs\\Python\\Python311\\Lib\\site-packages\\pandas\\io\\parsers\\readers.py:611\u001b[0m, in \u001b[0;36m_read\u001b[1;34m(filepath_or_buffer, kwds)\u001b[0m\n\u001b[0;32m    608\u001b[0m _validate_names(kwds\u001b[38;5;241m.\u001b[39mget(\u001b[38;5;124m\"\u001b[39m\u001b[38;5;124mnames\u001b[39m\u001b[38;5;124m\"\u001b[39m, \u001b[38;5;28;01mNone\u001b[39;00m))\n\u001b[0;32m    610\u001b[0m \u001b[38;5;66;03m# Create the parser.\u001b[39;00m\n\u001b[1;32m--> 611\u001b[0m parser \u001b[38;5;241m=\u001b[39m \u001b[43mTextFileReader\u001b[49m\u001b[43m(\u001b[49m\u001b[43mfilepath_or_buffer\u001b[49m\u001b[43m,\u001b[49m\u001b[43m \u001b[49m\u001b[38;5;241;43m*\u001b[39;49m\u001b[38;5;241;43m*\u001b[39;49m\u001b[43mkwds\u001b[49m\u001b[43m)\u001b[49m\n\u001b[0;32m    613\u001b[0m \u001b[38;5;28;01mif\u001b[39;00m chunksize \u001b[38;5;129;01mor\u001b[39;00m iterator:\n\u001b[0;32m    614\u001b[0m     \u001b[38;5;28;01mreturn\u001b[39;00m parser\n",
            "File \u001b[1;32mc:\\Users\\micfl\\AppData\\Local\\Programs\\Python\\Python311\\Lib\\site-packages\\pandas\\io\\parsers\\readers.py:1448\u001b[0m, in \u001b[0;36mTextFileReader.__init__\u001b[1;34m(self, f, engine, **kwds)\u001b[0m\n\u001b[0;32m   1445\u001b[0m     \u001b[38;5;28mself\u001b[39m\u001b[38;5;241m.\u001b[39moptions[\u001b[38;5;124m\"\u001b[39m\u001b[38;5;124mhas_index_names\u001b[39m\u001b[38;5;124m\"\u001b[39m] \u001b[38;5;241m=\u001b[39m kwds[\u001b[38;5;124m\"\u001b[39m\u001b[38;5;124mhas_index_names\u001b[39m\u001b[38;5;124m\"\u001b[39m]\n\u001b[0;32m   1447\u001b[0m \u001b[38;5;28mself\u001b[39m\u001b[38;5;241m.\u001b[39mhandles: IOHandles \u001b[38;5;241m|\u001b[39m \u001b[38;5;28;01mNone\u001b[39;00m \u001b[38;5;241m=\u001b[39m \u001b[38;5;28;01mNone\u001b[39;00m\n\u001b[1;32m-> 1448\u001b[0m \u001b[38;5;28mself\u001b[39m\u001b[38;5;241m.\u001b[39m_engine \u001b[38;5;241m=\u001b[39m \u001b[38;5;28;43mself\u001b[39;49m\u001b[38;5;241;43m.\u001b[39;49m\u001b[43m_make_engine\u001b[49m\u001b[43m(\u001b[49m\u001b[43mf\u001b[49m\u001b[43m,\u001b[49m\u001b[43m \u001b[49m\u001b[38;5;28;43mself\u001b[39;49m\u001b[38;5;241;43m.\u001b[39;49m\u001b[43mengine\u001b[49m\u001b[43m)\u001b[49m\n",
            "File \u001b[1;32mc:\\Users\\micfl\\AppData\\Local\\Programs\\Python\\Python311\\Lib\\site-packages\\pandas\\io\\parsers\\readers.py:1705\u001b[0m, in \u001b[0;36mTextFileReader._make_engine\u001b[1;34m(self, f, engine)\u001b[0m\n\u001b[0;32m   1703\u001b[0m     \u001b[38;5;28;01mif\u001b[39;00m \u001b[38;5;124m\"\u001b[39m\u001b[38;5;124mb\u001b[39m\u001b[38;5;124m\"\u001b[39m \u001b[38;5;129;01mnot\u001b[39;00m \u001b[38;5;129;01min\u001b[39;00m mode:\n\u001b[0;32m   1704\u001b[0m         mode \u001b[38;5;241m+\u001b[39m\u001b[38;5;241m=\u001b[39m \u001b[38;5;124m\"\u001b[39m\u001b[38;5;124mb\u001b[39m\u001b[38;5;124m\"\u001b[39m\n\u001b[1;32m-> 1705\u001b[0m \u001b[38;5;28mself\u001b[39m\u001b[38;5;241m.\u001b[39mhandles \u001b[38;5;241m=\u001b[39m \u001b[43mget_handle\u001b[49m\u001b[43m(\u001b[49m\n\u001b[0;32m   1706\u001b[0m \u001b[43m    \u001b[49m\u001b[43mf\u001b[49m\u001b[43m,\u001b[49m\n\u001b[0;32m   1707\u001b[0m \u001b[43m    \u001b[49m\u001b[43mmode\u001b[49m\u001b[43m,\u001b[49m\n\u001b[0;32m   1708\u001b[0m \u001b[43m    \u001b[49m\u001b[43mencoding\u001b[49m\u001b[38;5;241;43m=\u001b[39;49m\u001b[38;5;28;43mself\u001b[39;49m\u001b[38;5;241;43m.\u001b[39;49m\u001b[43moptions\u001b[49m\u001b[38;5;241;43m.\u001b[39;49m\u001b[43mget\u001b[49m\u001b[43m(\u001b[49m\u001b[38;5;124;43m\"\u001b[39;49m\u001b[38;5;124;43mencoding\u001b[39;49m\u001b[38;5;124;43m\"\u001b[39;49m\u001b[43m,\u001b[49m\u001b[43m \u001b[49m\u001b[38;5;28;43;01mNone\u001b[39;49;00m\u001b[43m)\u001b[49m\u001b[43m,\u001b[49m\n\u001b[0;32m   1709\u001b[0m \u001b[43m    \u001b[49m\u001b[43mcompression\u001b[49m\u001b[38;5;241;43m=\u001b[39;49m\u001b[38;5;28;43mself\u001b[39;49m\u001b[38;5;241;43m.\u001b[39;49m\u001b[43moptions\u001b[49m\u001b[38;5;241;43m.\u001b[39;49m\u001b[43mget\u001b[49m\u001b[43m(\u001b[49m\u001b[38;5;124;43m\"\u001b[39;49m\u001b[38;5;124;43mcompression\u001b[39;49m\u001b[38;5;124;43m\"\u001b[39;49m\u001b[43m,\u001b[49m\u001b[43m \u001b[49m\u001b[38;5;28;43;01mNone\u001b[39;49;00m\u001b[43m)\u001b[49m\u001b[43m,\u001b[49m\n\u001b[0;32m   1710\u001b[0m \u001b[43m    \u001b[49m\u001b[43mmemory_map\u001b[49m\u001b[38;5;241;43m=\u001b[39;49m\u001b[38;5;28;43mself\u001b[39;49m\u001b[38;5;241;43m.\u001b[39;49m\u001b[43moptions\u001b[49m\u001b[38;5;241;43m.\u001b[39;49m\u001b[43mget\u001b[49m\u001b[43m(\u001b[49m\u001b[38;5;124;43m\"\u001b[39;49m\u001b[38;5;124;43mmemory_map\u001b[39;49m\u001b[38;5;124;43m\"\u001b[39;49m\u001b[43m,\u001b[49m\u001b[43m \u001b[49m\u001b[38;5;28;43;01mFalse\u001b[39;49;00m\u001b[43m)\u001b[49m\u001b[43m,\u001b[49m\n\u001b[0;32m   1711\u001b[0m \u001b[43m    \u001b[49m\u001b[43mis_text\u001b[49m\u001b[38;5;241;43m=\u001b[39;49m\u001b[43mis_text\u001b[49m\u001b[43m,\u001b[49m\n\u001b[0;32m   1712\u001b[0m \u001b[43m    \u001b[49m\u001b[43merrors\u001b[49m\u001b[38;5;241;43m=\u001b[39;49m\u001b[38;5;28;43mself\u001b[39;49m\u001b[38;5;241;43m.\u001b[39;49m\u001b[43moptions\u001b[49m\u001b[38;5;241;43m.\u001b[39;49m\u001b[43mget\u001b[49m\u001b[43m(\u001b[49m\u001b[38;5;124;43m\"\u001b[39;49m\u001b[38;5;124;43mencoding_errors\u001b[39;49m\u001b[38;5;124;43m\"\u001b[39;49m\u001b[43m,\u001b[49m\u001b[43m \u001b[49m\u001b[38;5;124;43m\"\u001b[39;49m\u001b[38;5;124;43mstrict\u001b[39;49m\u001b[38;5;124;43m\"\u001b[39;49m\u001b[43m)\u001b[49m\u001b[43m,\u001b[49m\n\u001b[0;32m   1713\u001b[0m \u001b[43m    \u001b[49m\u001b[43mstorage_options\u001b[49m\u001b[38;5;241;43m=\u001b[39;49m\u001b[38;5;28;43mself\u001b[39;49m\u001b[38;5;241;43m.\u001b[39;49m\u001b[43moptions\u001b[49m\u001b[38;5;241;43m.\u001b[39;49m\u001b[43mget\u001b[49m\u001b[43m(\u001b[49m\u001b[38;5;124;43m\"\u001b[39;49m\u001b[38;5;124;43mstorage_options\u001b[39;49m\u001b[38;5;124;43m\"\u001b[39;49m\u001b[43m,\u001b[49m\u001b[43m \u001b[49m\u001b[38;5;28;43;01mNone\u001b[39;49;00m\u001b[43m)\u001b[49m\u001b[43m,\u001b[49m\n\u001b[0;32m   1714\u001b[0m \u001b[43m\u001b[49m\u001b[43m)\u001b[49m\n\u001b[0;32m   1715\u001b[0m \u001b[38;5;28;01massert\u001b[39;00m \u001b[38;5;28mself\u001b[39m\u001b[38;5;241m.\u001b[39mhandles \u001b[38;5;129;01mis\u001b[39;00m \u001b[38;5;129;01mnot\u001b[39;00m \u001b[38;5;28;01mNone\u001b[39;00m\n\u001b[0;32m   1716\u001b[0m f \u001b[38;5;241m=\u001b[39m \u001b[38;5;28mself\u001b[39m\u001b[38;5;241m.\u001b[39mhandles\u001b[38;5;241m.\u001b[39mhandle\n",
            "File \u001b[1;32mc:\\Users\\micfl\\AppData\\Local\\Programs\\Python\\Python311\\Lib\\site-packages\\pandas\\io\\common.py:863\u001b[0m, in \u001b[0;36mget_handle\u001b[1;34m(path_or_buf, mode, encoding, compression, memory_map, is_text, errors, storage_options)\u001b[0m\n\u001b[0;32m    858\u001b[0m \u001b[38;5;28;01melif\u001b[39;00m \u001b[38;5;28misinstance\u001b[39m(handle, \u001b[38;5;28mstr\u001b[39m):\n\u001b[0;32m    859\u001b[0m     \u001b[38;5;66;03m# Check whether the filename is to be opened in binary mode.\u001b[39;00m\n\u001b[0;32m    860\u001b[0m     \u001b[38;5;66;03m# Binary mode does not support 'encoding' and 'newline'.\u001b[39;00m\n\u001b[0;32m    861\u001b[0m     \u001b[38;5;28;01mif\u001b[39;00m ioargs\u001b[38;5;241m.\u001b[39mencoding \u001b[38;5;129;01mand\u001b[39;00m \u001b[38;5;124m\"\u001b[39m\u001b[38;5;124mb\u001b[39m\u001b[38;5;124m\"\u001b[39m \u001b[38;5;129;01mnot\u001b[39;00m \u001b[38;5;129;01min\u001b[39;00m ioargs\u001b[38;5;241m.\u001b[39mmode:\n\u001b[0;32m    862\u001b[0m         \u001b[38;5;66;03m# Encoding\u001b[39;00m\n\u001b[1;32m--> 863\u001b[0m         handle \u001b[38;5;241m=\u001b[39m \u001b[38;5;28;43mopen\u001b[39;49m\u001b[43m(\u001b[49m\n\u001b[0;32m    864\u001b[0m \u001b[43m            \u001b[49m\u001b[43mhandle\u001b[49m\u001b[43m,\u001b[49m\n\u001b[0;32m    865\u001b[0m \u001b[43m            \u001b[49m\u001b[43mioargs\u001b[49m\u001b[38;5;241;43m.\u001b[39;49m\u001b[43mmode\u001b[49m\u001b[43m,\u001b[49m\n\u001b[0;32m    866\u001b[0m \u001b[43m            \u001b[49m\u001b[43mencoding\u001b[49m\u001b[38;5;241;43m=\u001b[39;49m\u001b[43mioargs\u001b[49m\u001b[38;5;241;43m.\u001b[39;49m\u001b[43mencoding\u001b[49m\u001b[43m,\u001b[49m\n\u001b[0;32m    867\u001b[0m \u001b[43m            \u001b[49m\u001b[43merrors\u001b[49m\u001b[38;5;241;43m=\u001b[39;49m\u001b[43merrors\u001b[49m\u001b[43m,\u001b[49m\n\u001b[0;32m    868\u001b[0m \u001b[43m            \u001b[49m\u001b[43mnewline\u001b[49m\u001b[38;5;241;43m=\u001b[39;49m\u001b[38;5;124;43m\"\u001b[39;49m\u001b[38;5;124;43m\"\u001b[39;49m\u001b[43m,\u001b[49m\n\u001b[0;32m    869\u001b[0m \u001b[43m        \u001b[49m\u001b[43m)\u001b[49m\n\u001b[0;32m    870\u001b[0m     \u001b[38;5;28;01melse\u001b[39;00m:\n\u001b[0;32m    871\u001b[0m         \u001b[38;5;66;03m# Binary mode\u001b[39;00m\n\u001b[0;32m    872\u001b[0m         handle \u001b[38;5;241m=\u001b[39m \u001b[38;5;28mopen\u001b[39m(handle, ioargs\u001b[38;5;241m.\u001b[39mmode)\n",
            "\u001b[1;31mFileNotFoundError\u001b[0m: [Errno 2] No such file or directory: 'images_for_ca2/Images_For_Track_2\\\\driving_log.csv'"
          ]
        }
      ],
      "source": [
        "datadir = \"images_for_ca2/Images_For_TrackOne\" # Change to TrackTwo\n",
        "columns = [\"center\", \"left\",\"right\",\"steering\",\"throttle\",\"reverse\",\"speed\"]\n",
        "data = pd.read_csv(os.path.join(datadir,\"driving_log.csv\"),names=columns)\n",
        "pd.set_option('display.max_columns', 7)\n",
        "print(data.head)"
      ]
    },
    {
      "cell_type": "code",
      "execution_count": null,
      "metadata": {
        "id": "RoPkpwfvlvvr"
      },
      "outputs": [],
      "source": [
        "data['center'] = data['center'].apply(path_leaf)\n",
        "data['left'] = data['left'].apply(path_leaf)\n",
        "data['right'] = data['right'].apply(path_leaf)"
      ]
    },
    {
      "cell_type": "code",
      "execution_count": null,
      "metadata": {
        "id": "ptuo5Bgklwzo"
      },
      "outputs": [],
      "source": [
        "num_bins = 25\n",
        "samples_per_bin = 400\n",
        "hist,bins = np.histogram(data['steering'],num_bins)\n",
        "centre = (bins[:-1] + bins[1:]) * 0.5\n",
        "plt.bar(centre, hist, width=0.05)\n",
        "plt.plot((np.min(data['steering']), np.max(data['steering'])), (samples_per_bin, samples_per_bin))\n",
        "plt.show()"
      ]
    },
    {
      "cell_type": "code",
      "execution_count": null,
      "metadata": {
        "id": "X4Dz-l5nlx9W"
      },
      "outputs": [],
      "source": [
        "remove_list = []\n",
        "print('total data:', len(data))\n",
        "for j in range(num_bins):\n",
        "  list_ = []\n",
        "  for i in range(len(data['steering'])):\n",
        "    if data['steering'][i] >= bins[j] and data['steering'][i] <= bins[j+1]:\n",
        "      list_.append(i)\n",
        "  list_ = shuffle(list_)\n",
        "  list_ = list_[samples_per_bin:]\n",
        "  remove_list.extend(list_)\n",
        "print('removed', len(remove_list))\n",
        "data.drop(data.index[remove_list], inplace=True)\n",
        "print('remaining:', len(data))"
      ]
    },
    {
      "cell_type": "code",
      "execution_count": null,
      "metadata": {
        "id": "N-4RkptRlzjM"
      },
      "outputs": [],
      "source": [
        "hist,bins = np.histogram(data['steering'],num_bins)\n",
        "plt.bar(centre, hist, width=0.05)\n",
        "plt.plot((np.min(data['steering']), np.max(data['steering'])), (samples_per_bin, samples_per_bin))\n",
        "plt.show()"
      ]
    },
    {
      "cell_type": "code",
      "execution_count": null,
      "metadata": {
        "id": "5YGpFdvPl1OH"
      },
      "outputs": [],
      "source": [
        "image_paths, steerings = load_img_steering(datadir + '/IMG', data)\n",
        "X_train, X_valid, y_train, y_valid = train_test_split(image_paths, steerings, test_size=0.3, random_state=6)\n",
        "print('Training Samples: {}\\nValid Samples: {}'.format(len(X_train), len(X_valid)))"
      ]
    },
    {
      "cell_type": "code",
      "execution_count": null,
      "metadata": {
        "id": "ACJMhzp-l4fg"
      },
      "outputs": [],
      "source": [
        "fig, axes = plt.subplots(1,2, figsize=(12,4))\n",
        "axes[0].hist(y_train, bins=num_bins, width=0.05, color='blue')\n",
        "axes[0].set_title('Training Set')\n",
        "axes[1].hist(y_valid, bins=num_bins, width=0.05, color='red')\n",
        "axes[1].set_title('Validation Set')\n",
        "plt.show()"
      ]
    },
    {
      "cell_type": "code",
      "execution_count": null,
      "metadata": {
        "id": "G_G2hmawl5_k"
      },
      "outputs": [],
      "source": [
        "image = image_paths[100]\n",
        "original_img = mpimg.imread(image)\n",
        "preprocessed_img = preprocess_img(image)\n",
        "fig, axes = plt.subplots(1,2, figsize=(15,10))\n",
        "fig.tight_layout()\n",
        "axes[0].imshow(original_img)\n",
        "axes[0].set_title('Original Image')\n",
        "axes[1].imshow(preprocessed_img)\n",
        "axes[1].set_title('Preprocessed Image')\n",
        "plt.show()"
      ]
    },
    {
      "cell_type": "code",
      "execution_count": null,
      "metadata": {
        "id": "4n45vDN0l6Z-"
      },
      "outputs": [],
      "source": [
        "image = image_paths[random.randint(0,1000)]\n",
        "original_img = mpimg.imread(image)\n",
        "zoomed_image = zoom(original_img)\n",
        "fig, axes = plt.subplots(1,2, figsize=(15,10))\n",
        "fig.tight_layout()\n",
        "axes[0].imshow(original_img)\n",
        "axes[0].set_title('Original Image')\n",
        "axes[1].imshow(zoomed_image)\n",
        "axes[1].set_title('Zoomed Image')\n",
        "plt.show()"
      ]
    },
    {
      "cell_type": "code",
      "execution_count": null,
      "metadata": {
        "id": "jGjyrHfTl8Mt"
      },
      "outputs": [],
      "source": [
        "image = image_paths[random.randint(0,1000)]\n",
        "original_img = mpimg.imread(image)\n",
        "panned_image = pan(original_img)\n",
        "fig, axes = plt.subplots(1,2, figsize=(15,10))\n",
        "fig.tight_layout()\n",
        "axes[0].imshow(original_img)\n",
        "axes[0].set_title('Original Image')\n",
        "axes[1].imshow(panned_image)\n",
        "axes[1].set_title('Panned Image')\n",
        "plt.show()"
      ]
    },
    {
      "cell_type": "code",
      "execution_count": null,
      "metadata": {
        "id": "Z3z_AIA-l9oq"
      },
      "outputs": [],
      "source": [
        "image = image_paths[random.randint(0,1000)]\n",
        "original_img = mpimg.imread(image)\n",
        "brightened_image = img_random_brightness(original_img)\n",
        "fig, axes = plt.subplots(1,2, figsize=(15,10))\n",
        "fig.tight_layout()\n",
        "axes[0].imshow(original_img)\n",
        "axes[0].set_title('Original Image')\n",
        "axes[1].imshow(brightened_image)\n",
        "axes[1].set_title('Brightened Image')\n",
        "plt.show()"
      ]
    },
    {
      "cell_type": "code",
      "execution_count": null,
      "metadata": {
        "id": "26esg8oll_CQ"
      },
      "outputs": [],
      "source": [
        "random_index = random.randint(0,1000)\n",
        "image = image_paths[random_index]\n",
        "steering = steerings[random_index]\n",
        "original_img = mpimg.imread(image)\n",
        "flipped_image, flipped_steering = img_random_flip(original_img,steering)\n",
        "fig, axes = plt.subplots(1,2, figsize=(15,10))\n",
        "fig.tight_layout()\n",
        "axes[0].imshow(original_img)\n",
        "axes[0].set_title('Original Image - ' + 'Steering Angle:' + str(steering))\n",
        "axes[1].imshow(flipped_image)\n",
        "axes[1].set_title('Flipped Image - ' + 'Steering Angle:' + str(flipped_steering))\n",
        "plt.show()"
      ]
    },
    {
      "cell_type": "code",
      "execution_count": null,
      "metadata": {
        "id": "2OJgcUpomBgZ"
      },
      "outputs": [],
      "source": [
        "ncols = 2\n",
        "nrows = 10\n",
        "fig, axes = plt.subplots(nrows, ncols, figsize=(15,50))\n",
        "fig.tight_layout()\n",
        "for i in range(10):\n",
        "  randnum = random.randint(0,len(image_paths)-1)\n",
        "  random_image = image_paths[randnum]\n",
        "  random_steering = steerings[randnum]\n",
        "  original_img = mpimg.imread(random_image)\n",
        "  augmented_image, steering = random_augment(random_image,random_steering)\n",
        "  axes[i][0].imshow(original_img)\n",
        "  axes[i][0].set_title('Original Image')\n",
        "  axes[i][1].imshow(augmented_image)\n",
        "  axes[i][1].set_title('Augmented Image')\n",
        "plt.show()"
      ]
    },
    {
      "cell_type": "code",
      "execution_count": null,
      "metadata": {
        "id": "mPTtVKQ9mDGQ"
      },
      "outputs": [],
      "source": [
        "model = nvidia_model()\n",
        "print(model.summary())"
      ]
    },
    {
      "cell_type": "code",
      "execution_count": null,
      "metadata": {
        "colab": {
          "base_uri": "https://localhost:8080/"
        },
        "id": "isQ2v-0tmEYh",
        "outputId": "00aff5b3-9f18-4993-ae34-27d7a943aea8"
      },
      "outputs": [
        {
          "name": "stdout",
          "output_type": "stream",
          "text": [
            "Epoch 1/50\n",
            "200/200 [==============================] - 403s 2s/step - loss: 0.2337 - val_loss: 0.1733\n",
            "Epoch 2/50\n",
            "200/200 [==============================] - 388s 2s/step - loss: 0.1858 - val_loss: 0.1473\n",
            "Epoch 3/50\n",
            "200/200 [==============================] - 387s 2s/step - loss: 0.1656 - val_loss: 0.1460\n",
            "Epoch 4/50\n",
            "142/200 [====================>.........] - ETA: 1:25 - loss: 0.1532"
          ]
        }
      ],
      "source": [
        "history = model.fit(batch_generator(X_train, y_train, 300, 1),steps_per_epoch=150,epochs=30,\n",
        "                    validation_data=batch_generator(X_valid, y_valid, 200, 0),validation_steps=200,verbose=1,shuffle=1)"
      ]
    },
    {
      "cell_type": "code",
      "execution_count": null,
      "metadata": {
        "id": "cwl8RVIAmHkx"
      },
      "outputs": [],
      "source": [
        "plt.plot(history.history['loss'])\n",
        "plt.plot(history.history['val_loss'])\n",
        "plt.legend(['Training','Validation'])\n",
        "plt.title('Loss')\n",
        "plt.xlabel('Epoch')\n",
        "plt.show()"
      ]
    },
    {
      "cell_type": "code",
      "execution_count": null,
      "metadata": {
        "id": "XCMUsUSTmIWT"
      },
      "outputs": [],
      "source": [
        "model.save('track2_Attempt.h5')"
      ]
    },
    {
      "cell_type": "code",
      "execution_count": null,
      "metadata": {
        "id": "XUrufpZTmL_W"
      },
      "outputs": [],
      "source": [
        "!ls\n",
        "from google.colab import files\n",
        "files.download('track2_Attempt.h5')"
      ]
    }
  ],
  "metadata": {
    "accelerator": "GPU",
    "colab": {
      "gpuType": "T4",
      "provenance": []
    },
    "kernelspec": {
      "display_name": "Python 3",
      "name": "python3"
    },
    "language_info": {
      "codemirror_mode": {
        "name": "ipython",
        "version": 3
      },
      "file_extension": ".py",
      "mimetype": "text/x-python",
      "name": "python",
      "nbconvert_exporter": "python",
      "pygments_lexer": "ipython3",
      "version": "3.11.5"
    }
  },
  "nbformat": 4,
  "nbformat_minor": 0
}
